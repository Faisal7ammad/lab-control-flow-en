{
 "cells": [
  {
   "cell_type": "markdown",
   "metadata": {},
   "source": [
    "## Words"
   ]
  },
  {
   "cell_type": "code",
   "execution_count": 3,
   "metadata": {
    "ExecuteTime": {
     "end_time": "2024-05-20T13:16:29.333820Z",
     "start_time": "2024-05-20T13:16:29.327877Z"
    }
   },
   "outputs": [],
   "source": [
    "words = ['play', 'filling', 'bar', 'theatre', 'easygoing', 'date', 'lead', 'that', 'story',  'island']"
   ]
  },
  {
   "cell_type": "markdown",
   "metadata": {},
   "source": [
    "**Print every word in upper case**"
   ]
  },
  {
   "cell_type": "code",
   "execution_count": 5,
   "metadata": {
    "ExecuteTime": {
     "end_time": "2024-05-20T13:16:47.878907Z",
     "start_time": "2024-05-20T13:16:47.869700Z"
    }
   },
   "outputs": [
    {
     "name": "stdout",
     "output_type": "stream",
     "text": [
      "PLAY\n",
      "FILLING\n",
      "BAR\n",
      "THEATRE\n",
      "EASYGOING\n",
      "DATE\n",
      "LEAD\n",
      "THAT\n",
      "STORY\n",
      "ISLAND\n"
     ]
    }
   ],
   "source": [
    "for i in words:\n",
    "    print(i.upper())"
   ]
  },
  {
   "cell_type": "markdown",
   "metadata": {},
   "source": [
    "**Create a new list containing only words with 5 or more letters**"
   ]
  },
  {
   "cell_type": "code",
   "execution_count": 6,
   "metadata": {
    "ExecuteTime": {
     "end_time": "2024-05-20T13:17:57.568787Z",
     "start_time": "2024-05-20T13:17:57.559212Z"
    }
   },
   "outputs": [
    {
     "name": "stdout",
     "output_type": "stream",
     "text": [
      "filling\n",
      "theatre\n",
      "easygoing\n",
      "story\n",
      "island\n"
     ]
    }
   ],
   "source": [
    "new_list = []\n",
    "for i in words:\n",
    "    if len(i) >= 5:\n",
    "        print(i)\n",
    "    "
   ]
  },
  {
   "cell_type": "markdown",
   "metadata": {},
   "source": [
    "**Print the first word starting with \"t\"**"
   ]
  },
  {
   "cell_type": "code",
   "execution_count": 8,
   "metadata": {
    "ExecuteTime": {
     "end_time": "2024-05-20T13:18:35.067780Z",
     "start_time": "2024-05-20T13:18:35.050592Z"
    }
   },
   "outputs": [
    {
     "name": "stdout",
     "output_type": "stream",
     "text": [
      "theatre\n",
      "that\n"
     ]
    }
   ],
   "source": [
    "for i in words:\n",
    "    if i[0] == 't':\n",
    "        print(i)"
   ]
  },
  {
   "cell_type": "markdown",
   "metadata": {},
   "source": [
    "## Numbers"
   ]
  },
  {
   "cell_type": "markdown",
   "metadata": {},
   "source": [
    "**Create a list containing the square of every number from 1 to 10**"
   ]
  },
  {
   "cell_type": "code",
   "execution_count": 12,
   "metadata": {
    "ExecuteTime": {
     "end_time": "2024-05-20T13:20:43.980504Z",
     "start_time": "2024-05-20T13:20:43.969374Z"
    }
   },
   "outputs": [
    {
     "data": {
      "text/plain": [
       "[1, 4, 9, 16, 25, 36, 49, 64, 81, 100]"
      ]
     },
     "execution_count": 12,
     "metadata": {},
     "output_type": "execute_result"
    }
   ],
   "source": [
    "lst_1 = []\n",
    "for i in range(1,11):\n",
    "    lst_1.append(i**2)\n",
    "    \n",
    "lst_1"
   ]
  },
  {
   "cell_type": "markdown",
   "metadata": {},
   "source": [
    "**Print a list containing the square of every odd number from 1 to 10**"
   ]
  },
  {
   "cell_type": "code",
   "execution_count": 18,
   "metadata": {
    "ExecuteTime": {
     "end_time": "2024-05-20T13:23:17.648912Z",
     "start_time": "2024-05-20T13:23:17.639141Z"
    }
   },
   "outputs": [
    {
     "data": {
      "text/plain": [
       "[1, 9, 25, 49, 81]"
      ]
     },
     "execution_count": 18,
     "metadata": {},
     "output_type": "execute_result"
    }
   ],
   "source": [
    "lst_2 = []\n",
    "for i in range(1,11,2):\n",
    "    lst_2.append(i**2)\n",
    "    \n",
    "lst_2"
   ]
  },
  {
   "cell_type": "markdown",
   "metadata": {},
   "source": [
    "**Create a list with the squares of all multiples of 8 below 1000**"
   ]
  },
  {
   "cell_type": "code",
   "execution_count": 24,
   "metadata": {
    "ExecuteTime": {
     "end_time": "2024-05-20T13:27:48.333987Z",
     "start_time": "2024-05-20T13:27:48.306357Z"
    }
   },
   "outputs": [
    {
     "data": {
      "text/plain": [
       "[8,\n",
       " 16,\n",
       " 24,\n",
       " 32,\n",
       " 40,\n",
       " 48,\n",
       " 56,\n",
       " 64,\n",
       " 72,\n",
       " 80,\n",
       " 88,\n",
       " 96,\n",
       " 104,\n",
       " 112,\n",
       " 120,\n",
       " 128,\n",
       " 136,\n",
       " 144,\n",
       " 152,\n",
       " 160,\n",
       " 168,\n",
       " 176,\n",
       " 184,\n",
       " 192,\n",
       " 200,\n",
       " 208,\n",
       " 216,\n",
       " 224,\n",
       " 232,\n",
       " 240,\n",
       " 248,\n",
       " 256,\n",
       " 264,\n",
       " 272,\n",
       " 280,\n",
       " 288,\n",
       " 296,\n",
       " 304,\n",
       " 312,\n",
       " 320,\n",
       " 328,\n",
       " 336,\n",
       " 344,\n",
       " 352,\n",
       " 360,\n",
       " 368,\n",
       " 376,\n",
       " 384,\n",
       " 392,\n",
       " 400,\n",
       " 408,\n",
       " 416,\n",
       " 424,\n",
       " 432,\n",
       " 440,\n",
       " 448,\n",
       " 456,\n",
       " 464,\n",
       " 472,\n",
       " 480,\n",
       " 488,\n",
       " 496,\n",
       " 504,\n",
       " 512,\n",
       " 520,\n",
       " 528,\n",
       " 536,\n",
       " 544,\n",
       " 552,\n",
       " 560,\n",
       " 568,\n",
       " 576,\n",
       " 584,\n",
       " 592,\n",
       " 600,\n",
       " 608,\n",
       " 616,\n",
       " 624,\n",
       " 632,\n",
       " 640,\n",
       " 648,\n",
       " 656,\n",
       " 664,\n",
       " 672,\n",
       " 680,\n",
       " 688,\n",
       " 696,\n",
       " 704,\n",
       " 712,\n",
       " 720,\n",
       " 728,\n",
       " 736,\n",
       " 744,\n",
       " 752,\n",
       " 760,\n",
       " 768,\n",
       " 776,\n",
       " 784,\n",
       " 792,\n",
       " 800,\n",
       " 808,\n",
       " 816,\n",
       " 824,\n",
       " 832,\n",
       " 840,\n",
       " 848,\n",
       " 856,\n",
       " 864,\n",
       " 872,\n",
       " 880,\n",
       " 888,\n",
       " 896,\n",
       " 904,\n",
       " 912,\n",
       " 920,\n",
       " 928,\n",
       " 936,\n",
       " 944,\n",
       " 952,\n",
       " 960,\n",
       " 968,\n",
       " 976,\n",
       " 984,\n",
       " 992,\n",
       " 1000]"
      ]
     },
     "execution_count": 24,
     "metadata": {},
     "output_type": "execute_result"
    }
   ],
   "source": [
    "lst_3 = []\n",
    "for i in range(1,1001):\n",
    "    if i%8 == 0:\n",
    "        lst_3.append(i)\n",
    "lst_3"
   ]
  },
  {
   "cell_type": "markdown",
   "metadata": {},
   "source": [
    "## People"
   ]
  },
  {
   "cell_type": "code",
   "execution_count": 80,
   "metadata": {
    "ExecuteTime": {
     "end_time": "2024-05-20T14:11:57.881677Z",
     "start_time": "2024-05-20T14:11:57.852473Z"
    }
   },
   "outputs": [],
   "source": [
    "people = [\n",
    "    {\n",
    "        \"name\": \"Juan\",\n",
    "        \"age\": 34,\n",
    "        \"n_kids\": 2\n",
    "    },\n",
    "    {\n",
    "        \"name\": \"Pepe\",\n",
    "        \"age\": 27,\n",
    "        \"n_kids\": 0\n",
    "    },\n",
    "    {\n",
    "        \"name\": \"Sonia\",\n",
    "        \"age\": 41,\n",
    "        \"n_kids\": 1\n",
    "    },\n",
    "    {\n",
    "        \"name\": \"Lucía\",\n",
    "        \"age\": 22,\n",
    "        \"n_kids\": 2\n",
    "    },\n",
    "    {\n",
    "        \"name\": \"Leo\",\n",
    "        \"age\": 55,\n",
    "        \"n_kids\": 5\n",
    "    }\n",
    "]"
   ]
  },
  {
   "cell_type": "markdown",
   "metadata": {},
   "source": [
    "**How many people are there?**"
   ]
  },
  {
   "cell_type": "code",
   "execution_count": 81,
   "metadata": {
    "ExecuteTime": {
     "end_time": "2024-05-20T14:11:58.258561Z",
     "start_time": "2024-05-20T14:11:58.210000Z"
    }
   },
   "outputs": [
    {
     "data": {
      "text/plain": [
       "5"
      ]
     },
     "execution_count": 81,
     "metadata": {},
     "output_type": "execute_result"
    }
   ],
   "source": [
    "len(people)"
   ]
  },
  {
   "cell_type": "markdown",
   "metadata": {},
   "source": [
    "**How many people have kids**?"
   ]
  },
  {
   "cell_type": "code",
   "execution_count": 82,
   "metadata": {
    "ExecuteTime": {
     "end_time": "2024-05-20T14:11:58.575562Z",
     "start_time": "2024-05-20T14:11:58.547666Z"
    }
   },
   "outputs": [
    {
     "name": "stdout",
     "output_type": "stream",
     "text": [
      "4\n"
     ]
    }
   ],
   "source": [
    "people_w_kids = []\n",
    "for i in people:\n",
    "    if i['n_kids'] > 0:\n",
    "        people_w_kids.append(i)\n",
    "print(len(people_w_kids))"
   ]
  },
  {
   "cell_type": "markdown",
   "metadata": {},
   "source": [
    "**How many kids do they have in total?**"
   ]
  },
  {
   "cell_type": "code",
   "execution_count": 83,
   "metadata": {
    "ExecuteTime": {
     "end_time": "2024-05-20T14:11:58.917742Z",
     "start_time": "2024-05-20T14:11:58.875641Z"
    }
   },
   "outputs": [
    {
     "name": "stdout",
     "output_type": "stream",
     "text": [
      "10\n"
     ]
    }
   ],
   "source": [
    "total_kids = 0\n",
    "for i in people:\n",
    "    total_kids += i['n_kids']\n",
    "print(total_kids)"
   ]
  },
  {
   "cell_type": "markdown",
   "metadata": {},
   "source": [
    "**In a year's time, names ending with \"a\" will have an extra kid. Create a list of dictionaries with people's info in a year's time**"
   ]
  },
  {
   "cell_type": "code",
   "execution_count": 96,
   "metadata": {
    "ExecuteTime": {
     "end_time": "2024-05-20T14:19:05.902479Z",
     "start_time": "2024-05-20T14:19:05.894329Z"
    }
   },
   "outputs": [
    {
     "data": {
      "text/plain": [
       "[{'name': 'Juan', 'age': 34, 'n_kids': 2},\n",
       " {'name': 'Pepe', 'age': 27, 'n_kids': 0},\n",
       " {'name': 'Sonia', 'age': 41, 'n_kids': 2},\n",
       " {'name': 'Lucía', 'age': 22, 'n_kids': 3},\n",
       " {'name': 'Leo', 'age': 55, 'n_kids': 5}]"
      ]
     },
     "execution_count": 96,
     "metadata": {},
     "output_type": "execute_result"
    }
   ],
   "source": [
    "\n",
    "for i in people:\n",
    "    if i['name'][-1] == 'a':\n",
    "        i['n_kids'] += 1\n",
    "people"
   ]
  },
  {
   "cell_type": "code",
   "execution_count": 74,
   "metadata": {
    "ExecuteTime": {
     "end_time": "2024-05-20T14:04:00.456294Z",
     "start_time": "2024-05-20T14:04:00.446336Z"
    }
   },
   "outputs": [
    {
     "data": {
      "text/plain": [
       "'a'"
      ]
     },
     "execution_count": 74,
     "metadata": {},
     "output_type": "execute_result"
    }
   ],
   "source": [
    "#test = {\"name\": \"Sonia\",\n",
    "#        \"age\": 41,\n",
    "#        \"n_kids\": 1}\n",
    "#test['name'][len(\"name\")]"
   ]
  },
  {
   "cell_type": "code",
   "execution_count": null,
   "metadata": {},
   "outputs": [],
   "source": []
  }
 ],
 "metadata": {
  "kernelspec": {
   "display_name": "Python 3",
   "language": "python",
   "name": "python3"
  },
  "language_info": {
   "codemirror_mode": {
    "name": "ipython",
    "version": 3
   },
   "file_extension": ".py",
   "mimetype": "text/x-python",
   "name": "python",
   "nbconvert_exporter": "python",
   "pygments_lexer": "ipython3",
   "version": "3.8.5"
  },
  "toc": {
   "base_numbering": 1,
   "nav_menu": {},
   "number_sections": false,
   "sideBar": true,
   "skip_h1_title": false,
   "title_cell": "Table of Contents",
   "title_sidebar": "Contents",
   "toc_cell": false,
   "toc_position": {},
   "toc_section_display": true,
   "toc_window_display": true
  },
  "varInspector": {
   "cols": {
    "lenName": 16,
    "lenType": 16,
    "lenVar": 40
   },
   "kernels_config": {
    "python": {
     "delete_cmd_postfix": "",
     "delete_cmd_prefix": "del ",
     "library": "var_list.py",
     "varRefreshCmd": "print(var_dic_list())"
    },
    "r": {
     "delete_cmd_postfix": ") ",
     "delete_cmd_prefix": "rm(",
     "library": "var_list.r",
     "varRefreshCmd": "cat(var_dic_list()) "
    }
   },
   "types_to_exclude": [
    "module",
    "function",
    "builtin_function_or_method",
    "instance",
    "_Feature"
   ],
   "window_display": false
  },
  "vscode": {
   "interpreter": {
    "hash": "aee8b7b246df8f9039afb4144a1f6fd8d2ca17a180786b69acc140d282b71a49"
   }
  }
 },
 "nbformat": 4,
 "nbformat_minor": 4
}
